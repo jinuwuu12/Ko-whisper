{
 "cells": [
  {
   "cell_type": "code",
   "execution_count": 1,
   "id": "f009a73c",
   "metadata": {},
   "outputs": [
    {
     "name": "stderr",
     "output_type": "stream",
     "text": [
      "d:\\Whisper\\.whisper\\Lib\\site-packages\\huggingface_hub\\file_download.py:144: UserWarning: `huggingface_hub` cache-system uses symlinks by default to efficiently store duplicated files but your machine does not support them in C:\\Users\\user\\.cache\\huggingface\\hub\\models--openai--whisper-base. Caching files will still work but in a degraded version that might require more space on your disk. This warning can be disabled by setting the `HF_HUB_DISABLE_SYMLINKS_WARNING` environment variable. For more details, see https://huggingface.co/docs/huggingface_hub/how-to-cache#limitations.\n",
      "To support symlinks on Windows, you either need to activate Developer Mode or to run Python as an administrator. In order to activate developer mode, see this article: https://docs.microsoft.com/en-us/windows/apps/get-started/enable-your-device-for-development\n",
      "  warnings.warn(message)\n"
     ]
    }
   ],
   "source": [
    "from transformers import WhisperFeatureExtractor\n",
    "\n",
    "feature_extractor = WhisperFeatureExtractor.from_pretrained('openai/whisper-base')"
   ]
  },
  {
   "cell_type": "code",
   "execution_count": 2,
   "id": "d6ae003d",
   "metadata": {},
   "outputs": [
    {
     "name": "stdout",
     "output_type": "stream",
     "text": [
      "CUDA 사용 가능 여부: True\n",
      "GPU 이름: NVIDIA RTX 6000 Ada Generation\n",
      "GPU 개수: 1\n"
     ]
    }
   ],
   "source": [
    "import torch\n",
    "\n",
    "print(\"CUDA 사용 가능 여부:\", torch.cuda.is_available())\n",
    "if torch.cuda.is_available():\n",
    "    print(\"GPU 이름:\", torch.cuda.get_device_name(0))\n",
    "    print(\"GPU 개수:\", torch.cuda.device_count())\n",
    "    print\n"
   ]
  },
  {
   "cell_type": "code",
   "execution_count": 3,
   "id": "1bfccb13",
   "metadata": {},
   "outputs": [],
   "source": [
    "from transformers import WhisperTokenizer\n",
    "# 파인튜닝을 진행하고자 하는 모델의 tokenizer를 로드\n",
    "tokenizer = WhisperTokenizer.from_pretrained(\"openai/whisper-base\", language=\"Korean\", task=\"transcribe\")"
   ]
  },
  {
   "cell_type": "code",
   "execution_count": 4,
   "id": "9e0494f5",
   "metadata": {},
   "outputs": [
    {
     "name": "stdout",
     "output_type": "stream",
     "text": [
      "Input:                 저는 서울중앙지검 지능범죄수사팀 최인호 검사입니다.\n",
      "Decoded w/ special:    <|startoftranscript|><|ko|><|transcribe|><|notimestamps|>저는 서울중앙지검 지능범죄수사팀 최인호 검사입니다.<|endoftext|>\n",
      "Decoded w/out special: 저는 서울중앙지검 지능범죄수사팀 최인호 검사입니다.\n",
      "Are equal:             True\n"
     ]
    }
   ],
   "source": [
    "input_str = \"저는 서울중앙지검 지능범죄수사팀 최인호 검사입니다.\"\n",
    "labels = tokenizer(input_str).input_ids\n",
    "decoded_with_special = tokenizer.decode(labels, skip_special_tokens=False)\n",
    "decoded_str = tokenizer.decode(labels, skip_special_tokens=True)\n",
    "\n",
    "print(f\"Input:                 {input_str}\")\n",
    "print(f\"Decoded w/ special:    {decoded_with_special}\")\n",
    "print(f\"Decoded w/out special: {decoded_str}\")\n",
    "print(f\"Are equal:             {input_str == decoded_str}\")"
   ]
  },
  {
   "cell_type": "code",
   "execution_count": 5,
   "id": "6dcfa26d",
   "metadata": {},
   "outputs": [],
   "source": [
    "from transformers import WhisperProcessor\n",
    "\n",
    "processor = WhisperProcessor.from_pretrained(\"openai/whisper-base\", language=\"Korean\", task=\"transcribe\")"
   ]
  },
  {
   "cell_type": "code",
   "execution_count": null,
   "id": "f013e3d2",
   "metadata": {},
   "outputs": [
    {
     "name": "stdout",
     "output_type": "stream",
     "text": [
      "총 오디오 길이: 11583.26 분 (694995.49 초), 193.05\n"
     ]
    }
   ],
   "source": [
    "import os\n",
    "import librosa\n",
    "\n",
    "def get_total_duration_recursive(base_dir, extension=\".wav\"):\n",
    "    total_duration = 0.0\n",
    "\n",
    "    for root, dirs, files in os.walk(base_dir):\n",
    "        for file in files:\n",
    "            if file.endswith(extension):\n",
    "                file_path = os.path.join(root, file)\n",
    "                try:\n",
    "                    y, sr = librosa.load(file_path, sr=None)\n",
    "                    duration = librosa.get_duration(y=y, sr=sr)\n",
    "                    total_duration += duration\n",
    "                except Exception as e:\n",
    "                    print(f\"파일 오류: {file_path} → {e}\")\n",
    "    return total_duration\n",
    "\n",
    "# 경로 지정: audio/KsponSpeech_01\n",
    "base_path = \"./data/audio/KsponSpeech_01\"\n",
    "total_seconds = get_total_duration_recursive(base_path)\n",
    "print(f\"총 오디오 길이: {total_seconds/60:.2f} 분 ({total_seconds:.2f} 초), {total_seconds/60/60:.2f} 시간\")\n"
   ]
  },
  {
   "cell_type": "markdown",
   "id": "3856c029",
   "metadata": {},
   "source": [
    "### Main Reference : https://huggingface.co/datasets/google/fleurs\n",
    "### Sub Reference  : https://huggingface.co/blog/audio-datasets\n",
    "\n",
    "- You need to watch sub reference"
   ]
  },
  {
   "cell_type": "code",
   "execution_count": null,
   "id": "e6ebccf1",
   "metadata": {},
   "outputs": [],
   "source": []
  },
  {
   "cell_type": "code",
   "execution_count": 33,
   "id": "66c82f59",
   "metadata": {},
   "outputs": [],
   "source": [
    "from datasets import load_dataset\n",
    "fleurs = load_dataset(\"google/fleurs\", \"ko_kr\", split=\"train\")\n"
   ]
  },
  {
   "cell_type": "code",
   "execution_count": 36,
   "id": "66ef7c3c",
   "metadata": {},
   "outputs": [
    {
     "name": "stderr",
     "output_type": "stream",
     "text": [
      "Generating train split: 90 examples [00:01, 70.94 examples/s]\n"
     ]
    }
   ],
   "source": [
    "from datasets import load_dataset\n",
    "dataset = load_dataset(\"parquet\", data_files=r\"D:\\Whisper\\data\\fleurs\\test-00000-of-00006.parquet\")"
   ]
  },
  {
   "cell_type": "code",
   "execution_count": 9,
   "id": "162d6c1e",
   "metadata": {},
   "outputs": [
    {
     "name": "stdout",
     "output_type": "stream",
     "text": [
      "그러니까 상관 없어 그러면\n"
     ]
    }
   ],
   "source": [
    "import re\n",
    "unique_lst = ['o/', 'b/', 'l/','/n','+']\n",
    "sentence = 'o/ (그러니까)/(그니까*). 상관 없어 그러면.'\n",
    "\n",
    "if any(tag in sentence for tag in unique_lst):\n",
    "    included_tags = [tag for tag in unique_lst if tag in sentence]\n",
    "    for tag in included_tags:\n",
    "        sentence = sentence.replace(tag,'')\n",
    "# 2. 괄호 쌍 구조가 있을 때만 처리\n",
    "if re.search(r'\\([^)]+\\)/\\([^)]+\\)', sentence):\n",
    "\n",
    "    groups = re.findall(r'\\(([^)]+)\\)/\\([^)]+\\)', sentence)\n",
    "    sentence = re.sub(r'\\([^)]+\\)/\\([^)]+\\)', '', sentence)\n",
    "\n",
    "    # 2-3. 단일 괄호도 제거 (혹시 남아있을 경우)\n",
    "    sentence = re.sub(r'\\([^)]+\\)', '', sentence)\n",
    "\n",
    "    # 2-4. 특수문자 제거\n",
    "    sentence = re.sub(r'[^\\w가-힣\\s]', '', sentence)\n",
    "\n",
    "    # 2-5. 앞에 추출된 그룹 붙이기\n",
    "    final_sentence = ' '.join(groups) + ' ' + sentence.strip()\n",
    "else:\n",
    "    # 괄호 구조 없으면 단순히 특수문자만 제거\n",
    "    sentence = re.sub(r'[^\\w가-힣\\s]', '', sentence)\n",
    "    final_sentence = sentence.strip()\n",
    "\n",
    "print(final_sentence)"
   ]
  },
  {
   "cell_type": "code",
   "execution_count": 6,
   "id": "4029f592",
   "metadata": {},
   "outputs": [
    {
     "name": "stdout",
     "output_type": "stream",
     "text": [
      "괄호 안 단어: ['그러니까', '그니까*']\n",
      "최종 문장: 그러니까 /. 상관 없어 그러면.\n"
     ]
    }
   ],
   "source": []
  },
  {
   "cell_type": "code",
   "execution_count": 7,
   "id": "4bcde02e",
   "metadata": {},
   "outputs": [
    {
     "name": "stdout",
     "output_type": "stream",
     "text": [
      "최종 문장: 그러니까 상관 없어 그러면\n"
     ]
    }
   ],
   "source": [
    "import re\n",
    "\n",
    "sentence = '(그러니까)/(그니까*). 상관 없어 그러면.'\n",
    "\n",
    "# 1. 괄호 그룹 찾기 (예: (그러니까)/(그니까*))\n",
    "groups = re.findall(r'\\(([^)]+)\\)/\\([^)]+\\)', sentence)\n",
    "# print(groups)  # ['그러니까'] 만 남겨짐\n",
    "\n",
    "# 2. 괄호 블록 전체 제거\n",
    "sentence = re.sub(r'\\([^)]+\\)/\\([^)]+\\)', '', sentence)\n",
    "\n",
    "# 3. 괄호 1개짜리도 제거 (혹시 남아있을 경우)\n",
    "sentence = re.sub(r'\\([^)]+\\)', '', sentence)\n",
    "\n",
    "# 4. 특수문자 제거 (여기선 . 만)\n",
    "sentence = re.sub(r'[^\\w가-힣\\s]', '', sentence)\n",
    "\n",
    "# 5. 정제된 표현 붙이기\n",
    "final = ' '.join(groups) + ' ' + sentence.strip()\n",
    "\n",
    "print('최종 문장:', final)\n"
   ]
  },
  {
   "cell_type": "code",
   "execution_count": 10,
   "id": "bfbf1388",
   "metadata": {},
   "outputs": [
    {
     "name": "stdout",
     "output_type": "stream",
     "text": [
      "o/|b/|l/|/n|\\+|/|n|u|\\*\n"
     ]
    }
   ],
   "source": [
    "unique_lst = ['o/', 'b/', 'l/', '/n', '+', '/', 'n', 'u', '*']\n",
    "pattern = '|'.join(map(re.escape, unique_lst))  # 정규식 패턴 생성\n",
    "\n",
    "print(pattern)"
   ]
  },
  {
   "cell_type": "code",
   "execution_count": null,
   "id": "68cbab5d",
   "metadata": {},
   "outputs": [
    {
     "name": "stdout",
     "output_type": "stream",
     "text": [
      "처음에는 학원 일한다 들었겠 들었거든,근데 지금은 잘 몰라.\n",
      "어? 뭔가 20만원에 내가 하면은 20만원은 내가 챙길 수 있겠다. 딱 이래가지고,\n",
      "싸이버거에 비해서? 어\n",
      "근데 한국사 능력 시험은\n"
     ]
    }
   ],
   "source": [
    "import re\n",
    "target_file = r'D:\\Whisper\\data\\info\\train_KsponSpeech_01_test.csv'\n",
    "unique_lst = ['o/', 'b/', 'l/', '/n', '+', '/', 'n', 'u', '*',]\n",
    "pattern = '|'.join(map(re.escape, unique_lst))  # 정규식 패턴 생성\n",
    "with open(target_file, 'rt', encoding='utf-8') as f:\n",
    "            data = f.readlines()\n",
    "if target_file.endswith('.csv'):\n",
    "    header = data[:1]\n",
    "    lines = data[1:]\n",
    "else:\n",
    "    header = []\n",
    "    lines = data\n",
    "\n",
    "for i in lines:\n",
    "    path, original_sentence = i.split(',',1)\n",
    "    original_sentence = original_sentence.strip().replace('\"', '')\n",
    "    original_sentence = re.sub(pattern, '', original_sentence)\n",
    "\n",
    "    if re.search(r'\\([^)]+\\)/\\([^)]+\\)', original_sentence):\n",
    "                groups = re.findall(r'\\(([^)]+)\\)/\\([^)]+\\)', original_sentence)\n",
    "                sentence = re.sub(r'\\([^)]+\\)/\\([^)]+\\)', '', original_sentence)\n",
    "                final_sentence = ' '.join(groups) + ' ' + sentence.strip()\n",
    "                \n",
    "    else:\n",
    "        final_sentence = original_sentence.strip()\n",
    "\n",
    "    final_sentence = re.sub(r'\\([^)]+\\)\\([^)]+\\)', lambda m: m.group(0).split(')(')[0] + ')', final_sentence)\n",
    "    final_sentence = re.sub(r'\\(([^()]+)\\)', r'\\1', final_sentence)\n",
    "    \n",
    "    \n",
    "    print(final_sentence)"
   ]
  },
  {
   "cell_type": "code",
   "execution_count": null,
   "id": "44ebf1cd",
   "metadata": {},
   "outputs": [],
   "source": []
  }
 ],
 "metadata": {
  "kernelspec": {
   "display_name": ".whisper",
   "language": "python",
   "name": "python3"
  },
  "language_info": {
   "codemirror_mode": {
    "name": "ipython",
    "version": 3
   },
   "file_extension": ".py",
   "mimetype": "text/x-python",
   "name": "python",
   "nbconvert_exporter": "python",
   "pygments_lexer": "ipython3",
   "version": "3.12.7"
  }
 },
 "nbformat": 4,
 "nbformat_minor": 5
}
