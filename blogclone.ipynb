{
 "cells": [
  {
   "cell_type": "code",
   "execution_count": null,
   "id": "f009a73c",
   "metadata": {},
   "outputs": [],
   "source": [
    "from transformers import WhisperFeatureExtractor\n",
    "\n",
    "feature_extractor = WhisperFeatureExtractor.from_pretrained('openai/whisper-base')"
   ]
  },
  {
   "cell_type": "code",
   "execution_count": null,
   "id": "d6ae003d",
   "metadata": {},
   "outputs": [],
   "source": [
    "import torch\n",
    "\n",
    "print(\"CUDA 사용 가능 여부:\", torch.cuda.is_available())\n",
    "if torch.cuda.is_available():\n",
    "    print(\"GPU 이름:\", torch.cuda.get_device_name(0))\n",
    "    print(\"GPU 개수:\", torch.cuda.device_count())\n",
    "    print\n"
   ]
  },
  {
   "cell_type": "code",
   "execution_count": null,
   "id": "1bfccb13",
   "metadata": {},
   "outputs": [],
   "source": [
    "from transformers import WhisperTokenizer\n",
    "# 파인튜닝을 진행하고자 하는 모델의 tokenizer를 로드\n",
    "tokenizer = WhisperTokenizer.from_pretrained(\"openai/whisper-base\", language=\"Korean\", task=\"transcribe\")"
   ]
  },
  {
   "cell_type": "code",
   "execution_count": null,
   "id": "9e0494f5",
   "metadata": {},
   "outputs": [],
   "source": [
    "input_str = \"저는 서울중앙지검 지능범죄수사팀 최인호 검사입니다.\"\n",
    "labels = tokenizer(input_str).input_ids\n",
    "decoded_with_special = tokenizer.decode(labels, skip_special_tokens=False)\n",
    "decoded_str = tokenizer.decode(labels, skip_special_tokens=True)\n",
    "\n",
    "print(f\"Input:                 {input_str}\")\n",
    "print(f\"Decoded w/ special:    {decoded_with_special}\")\n",
    "print(f\"Decoded w/out special: {decoded_str}\")\n",
    "print(f\"Are equal:             {input_str == decoded_str}\")"
   ]
  },
  {
   "cell_type": "code",
   "execution_count": null,
   "id": "6dcfa26d",
   "metadata": {},
   "outputs": [],
   "source": [
    "from transformers import WhisperProcessor\n",
    "\n",
    "processor = WhisperProcessor.from_pretrained(\"openai/whisper-base\", language=\"Korean\", task=\"transcribe\")"
   ]
  },
  {
   "cell_type": "code",
   "execution_count": 9,
   "id": "f013e3d2",
   "metadata": {},
   "outputs": [
    {
     "name": "stdout",
     "output_type": "stream",
     "text": [
      "총 오디오 길이: 11583.26 분 (694995.49 초), 193.05 시간\n"
     ]
    }
   ],
   "source": [
    "import os\n",
    "import librosa\n",
    "\n",
    "def get_total_duration_recursive(base_dir, extension=\".wav\"):\n",
    "    total_duration = 0.0\n",
    "\n",
    "    for root, dirs, files in os.walk(base_dir):\n",
    "        for file in files:\n",
    "            if file.endswith(extension):\n",
    "                file_path = os.path.join(root, file)\n",
    "                try:\n",
    "                    y, sr = librosa.load(file_path, sr=None)\n",
    "                    duration = librosa.get_duration(y=y, sr=sr)\n",
    "                    total_duration += duration\n",
    "                except Exception as e:\n",
    "                    print(f\"파일 오류: {file_path} → {e}\")\n",
    "    return total_duration\n",
    "\n",
    "# 경로 지정: audio/KsponSpeech_01\n",
    "base_path = \"./data/audio/KsponSpeech_01\"\n",
    "total_seconds = get_total_duration_recursive(base_path)\n",
    "print(f\"총 오디오 길이: {total_seconds/60:.2f} 분 ({total_seconds:.2f} 초), {total_seconds/60/60:.2f} 시간\")\n"
   ]
  },
  {
   "cell_type": "markdown",
   "id": "3856c029",
   "metadata": {},
   "source": [
    "### Main Reference : https://huggingface.co/datasets/google/fleurs\n",
    "### Sub Reference  : https://huggingface.co/blog/audio-datasets\n",
    "\n",
    "- You need to watch sub reference"
   ]
  },
  {
   "cell_type": "code",
   "execution_count": null,
   "id": "e6ebccf1",
   "metadata": {},
   "outputs": [],
   "source": []
  },
  {
   "cell_type": "code",
   "execution_count": null,
   "id": "66c82f59",
   "metadata": {},
   "outputs": [],
   "source": [
    "from datasets import load_dataset\n",
    "fleurs = load_dataset(\"google/fleurs\", \"ko_kr\", split=\"train\")\n"
   ]
  },
  {
   "cell_type": "code",
   "execution_count": null,
   "id": "66ef7c3c",
   "metadata": {},
   "outputs": [],
   "source": [
    "from datasets import load_dataset\n",
    "dataset = load_dataset(\"parquet\", data_files=r\"D:\\Whisper\\data\\fleurs\\test-00000-of-00006.parquet\")"
   ]
  },
  {
   "cell_type": "code",
   "execution_count": null,
   "id": "162d6c1e",
   "metadata": {},
   "outputs": [],
   "source": [
    "import re\n",
    "unique_lst = ['o/', 'b/', 'l/','/n','+']\n",
    "sentence = 'o/ (그러니까)/(그니까*). 상관 없어 그러면.'\n",
    "\n",
    "if any(tag in sentence for tag in unique_lst):\n",
    "    included_tags = [tag for tag in unique_lst if tag in sentence]\n",
    "    for tag in included_tags:\n",
    "        sentence = sentence.replace(tag,'')\n",
    "# 2. 괄호 쌍 구조가 있을 때만 처리\n",
    "if re.search(r'\\([^)]+\\)/\\([^)]+\\)', sentence):\n",
    "\n",
    "    groups = re.findall(r'\\(([^)]+)\\)/\\([^)]+\\)', sentence)\n",
    "    sentence = re.sub(r'\\([^)]+\\)/\\([^)]+\\)', '', sentence)\n",
    "\n",
    "    # 2-3. 단일 괄호도 제거 (혹시 남아있을 경우)\n",
    "    sentence = re.sub(r'\\([^)]+\\)', '', sentence)\n",
    "\n",
    "    # 2-4. 특수문자 제거\n",
    "    sentence = re.sub(r'[^\\w가-힣\\s]', '', sentence)\n",
    "\n",
    "    # 2-5. 앞에 추출된 그룹 붙이기\n",
    "    final_sentence = ' '.join(groups) + ' ' + sentence.strip()\n",
    "else:\n",
    "    # 괄호 구조 없으면 단순히 특수문자만 제거\n",
    "    sentence = re.sub(r'[^\\w가-힣\\s]', '', sentence)\n",
    "    final_sentence = sentence.strip()\n",
    "\n",
    "print(final_sentence)"
   ]
  },
  {
   "cell_type": "code",
   "execution_count": null,
   "id": "4029f592",
   "metadata": {},
   "outputs": [],
   "source": []
  },
  {
   "cell_type": "code",
   "execution_count": null,
   "id": "4bcde02e",
   "metadata": {},
   "outputs": [],
   "source": [
    "import re\n",
    "\n",
    "sentence = '(그러니까)/(그니까*). 상관 없어 그러면.'\n",
    "\n",
    "# 1. 괄호 그룹 찾기 (예: (그러니까)/(그니까*))\n",
    "groups = re.findall(r'\\(([^)]+)\\)/\\([^)]+\\)', sentence)\n",
    "# print(groups)  # ['그러니까'] 만 남겨짐\n",
    "\n",
    "# 2. 괄호 블록 전체 제거\n",
    "sentence = re.sub(r'\\([^)]+\\)/\\([^)]+\\)', '', sentence)\n",
    "\n",
    "# 3. 괄호 1개짜리도 제거 (혹시 남아있을 경우)\n",
    "sentence = re.sub(r'\\([^)]+\\)', '', sentence)\n",
    "\n",
    "# 4. 특수문자 제거 (여기선 . 만)\n",
    "sentence = re.sub(r'[^\\w가-힣\\s]', '', sentence)\n",
    "\n",
    "# 5. 정제된 표현 붙이기\n",
    "final = ' '.join(groups) + ' ' + sentence.strip()\n",
    "\n",
    "print('최종 문장:', final)\n"
   ]
  },
  {
   "cell_type": "code",
   "execution_count": null,
   "id": "bfbf1388",
   "metadata": {},
   "outputs": [],
   "source": [
    "unique_lst = ['o/', 'b/', 'l/', '/n', '+', '/', 'n', 'u', '*']\n",
    "pattern = '|'.join(map(re.escape, unique_lst))  # 정규식 패턴 생성\n",
    "\n",
    "print(pattern)"
   ]
  },
  {
   "cell_type": "code",
   "execution_count": null,
   "id": "68cbab5d",
   "metadata": {},
   "outputs": [],
   "source": [
    "import re\n",
    "target_file = r'D:\\Whisper\\data\\info\\train_KsponSpeech_01_test.csv'\n",
    "unique_lst = ['o/', 'b/', 'l/', '/n', '+', 'n', 'u', '*',]\n",
    "pattern = '|'.join(map(re.escape, unique_lst))  # 정규식 패턴 생성\n",
    "with open(target_file, 'rt', encoding='utf-8') as f:\n",
    "            data = f.readlines()\n",
    "if target_file.endswith('.csv'):\n",
    "    header = data[:1]\n",
    "    lines = data[1:]\n",
    "else:\n",
    "    header = []\n",
    "    lines = data\n",
    "\n",
    "for i in lines:\n",
    "    path, original_sentence = i.split(',',1)\n",
    "    original_sentence = original_sentence.strip().replace('\"', '')\n",
    "    original_sentence = re.sub(pattern, '', original_sentence)\n",
    "\n",
    "    if re.search(r'\\([^)]+\\)/\\([^)]+\\)', original_sentence):\n",
    "                groups = re.findall(r'\\(([^)]+)\\)/\\([^)]+\\)', original_sentence)\n",
    "                sentence = re.sub(r'\\([^)]+\\)/\\([^)]+\\)', '', original_sentence)\n",
    "                final_sentence = ' '.join(groups) + ' ' + sentence.strip()\n",
    "                \n",
    "    else:\n",
    "        final_sentence = original_sentence.strip()\n",
    "\n",
    "    final_sentence = re.sub(r'\\([^)]+\\)\\([^)]+\\)', lambda m: m.group(0).split(')(')[0] + ')', final_sentence)\n",
    "    final_sentence = re.sub(r'\\(([^()]+)\\)', r'\\1', final_sentence)\n",
    "    \n",
    "    \n",
    "    print(final_sentence)"
   ]
  },
  {
   "cell_type": "code",
   "execution_count": 8,
   "id": "44ebf1cd",
   "metadata": {},
   "outputs": [
    {
     "name": "stdout",
     "output_type": "stream",
     "text": [
      "o/|b/|l/|/n|\\+|n|u|\\*|/|\\)\n",
      "['D:\\\\Whisper\\\\data/audio\\\\KsponSpeech_01/KsponSpeech_0002/KsponSpeech_001270.wav,\"작년 아 생각도 하기 싫어 이전을 생각하면 진짜 아침 8시부터 밤 10시까지 어떻게 학원에 있었나 싶다니까\"\\n']\n"
     ]
    }
   ],
   "source": [
    "import re\n",
    "target_file = r'D:\\Whisper\\data\\info\\train_KsponSpeech_01_test.csv'\n",
    "unique_lst = ['o/', 'b/', 'l/', '/n', '+', 'n', 'u', '*','/',')']\n",
    "all_pattern = '|'.join(map(re.escape, unique_lst))  # 정규식 패턴 생성\n",
    "print(all_pattern)\n",
    "\n",
    "with open(target_file, 'rt', encoding='utf-8') as f:\n",
    "            data = f.readlines()\n",
    "if target_file.endswith('.csv'):\n",
    "    header = data[:1]\n",
    "    lines = data[1:]\n",
    "\n",
    "new_sentences = []\n",
    "for i in lines:\n",
    "    path, original_sentence = i.split(',',1)\n",
    "    original_sentence = original_sentence.strip().replace('\"','')\n",
    "    sub_pattern = r'\\(([^/]+)/[^)]*\\)' # 앞에 것만 남기기기\n",
    "    result = re.sub(sub_pattern, r'\\1', original_sentence)\n",
    "    final_sentence = re.sub(all_pattern,'', result)\n",
    "    final_sentence = re.sub('  ',' ',final_sentence)\n",
    "    final_sentence = final_sentence.strip()\n",
    "    final_sentence = f'\"{final_sentence}\"'\n",
    "\n",
    "\n",
    "    new_sentences.append(f\"{path},{final_sentence}\\n\")\n",
    "\n",
    "print(new_sentences[262:263])\n",
    "    # with open(target_file, 'wt', encoding='utf-8') as f:\n",
    "    #     if header:\n",
    "    #         f.writelines(header)\n",
    "    #     f.writelines(new_sentences)\n",
    "\n",
    "\n",
    "\n",
    "\n"
   ]
  },
  {
   "cell_type": "code",
   "execution_count": 1,
   "id": "bb5efebe",
   "metadata": {},
   "outputs": [
    {
     "name": "stdout",
     "output_type": "stream",
     "text": [
      "Train CSV OK: (99200, 2)\n",
      "Valid CSV OK: (24800, 2)\n",
      "Test CSV OK: (382, 2)\n"
     ]
    }
   ],
   "source": [
    "import pandas as pd\n",
    "\n",
    "try:\n",
    "    df = pd.read_csv('data/info/train_KsponSpeech_01_train.csv')\n",
    "    print(\"Train CSV OK:\", df.shape)\n",
    "except Exception as e:\n",
    "    print(\"Train CSV Error:\", e)\n",
    "\n",
    "try:\n",
    "    df = pd.read_csv('data/info/train_KsponSpeech_01_test.csv')\n",
    "    print(\"Valid CSV OK:\", df.shape)\n",
    "except Exception as e:\n",
    "    print(\"Valid CSV Error:\", e)\n",
    "\n",
    "try:\n",
    "    df = pd.read_csv('data/info/fleurs_transcription_test.csv')\n",
    "    print(\"Test CSV OK:\", df.shape)\n",
    "except Exception as e:\n",
    "    print(\"Test CSV Error:\", e)\n"
   ]
  },
  {
   "cell_type": "code",
   "execution_count": null,
   "id": "e202c27d",
   "metadata": {},
   "outputs": [],
   "source": []
  }
 ],
 "metadata": {
  "kernelspec": {
   "display_name": ".whisper",
   "language": "python",
   "name": "python3"
  },
  "language_info": {
   "codemirror_mode": {
    "name": "ipython",
    "version": 3
   },
   "file_extension": ".py",
   "mimetype": "text/x-python",
   "name": "python",
   "nbconvert_exporter": "python",
   "pygments_lexer": "ipython3",
   "version": "3.12.7"
  }
 },
 "nbformat": 4,
 "nbformat_minor": 5
}
